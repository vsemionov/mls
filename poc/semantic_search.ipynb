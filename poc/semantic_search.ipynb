{
 "cells": [
  {
   "cell_type": "code",
   "execution_count": null,
   "metadata": {},
   "outputs": [],
   "source": [
    "import warnings\n",
    "warnings.filterwarnings('ignore')\n",
    "\n",
    "import datasets\n",
    "import chromadb\n",
    "from sentence_transformers import SentenceTransformer"
   ]
  },
  {
   "cell_type": "code",
   "execution_count": 2,
   "metadata": {},
   "outputs": [],
   "source": [
    "model = SentenceTransformer('all-MiniLM-L6-v2')  # msmarco-MiniLM-L-6-v3"
   ]
  },
  {
   "cell_type": "code",
   "execution_count": 3,
   "metadata": {},
   "outputs": [],
   "source": [
    "dataset = datasets.load_dataset('wikipedia', '20220301.simple', trust_remote_code=True)\n",
    "dataset = dataset['train']"
   ]
  },
  {
   "cell_type": "code",
   "execution_count": 4,
   "metadata": {},
   "outputs": [],
   "source": [
    "chroma_client = chromadb.PersistentClient(path='wikipedia.db')\n",
    "collection = chroma_client.get_or_create_collection('wikipedia')"
   ]
  },
  {
   "cell_type": "code",
   "execution_count": 5,
   "metadata": {},
   "outputs": [],
   "source": [
    "num_docs = min(len(dataset), 1000)\n",
    "batch_size = 128\n",
    "ids = []\n",
    "embeddings = []\n",
    "for i in range(num_docs):\n",
    "    ids.append(str(i))\n",
    "    encoding = model.encode(dataset[i]['text'])\n",
    "    embeddings.append(encoding.tolist())\n",
    "    if (i + 1) % batch_size == 0 or i == num_docs - 1:\n",
    "        collection.upsert(ids=ids, embeddings=embeddings)\n",
    "        ids = []\n",
    "        embeddings = []"
   ]
  },
  {
   "cell_type": "code",
   "execution_count": 6,
   "metadata": {},
   "outputs": [
    {
     "data": {
      "text/plain": [
       "['Sport',\n",
       " 'Track and field athletics',\n",
       " 'Long jump',\n",
       " 'Association football',\n",
       " 'Football']"
      ]
     },
     "execution_count": 6,
     "metadata": {},
     "output_type": "execute_result"
    }
   ],
   "source": [
    "query = 'run sports'\n",
    "encoding = model.encode(query)\n",
    "results = collection.query(query_embeddings=encoding.tolist(), n_results=5)\n",
    "ids = [int(_id) for _id in results['ids'][0]]\n",
    "titles = [dataset[_id]['title'] for _id in ids]\n",
    "titles"
   ]
  }
 ],
 "metadata": {
  "kernelspec": {
   "display_name": "ml",
   "language": "python",
   "name": "python3"
  },
  "language_info": {
   "codemirror_mode": {
    "name": "ipython",
    "version": 3
   },
   "file_extension": ".py",
   "mimetype": "text/x-python",
   "name": "python",
   "nbconvert_exporter": "python",
   "pygments_lexer": "ipython3",
   "version": "3.12.3"
  }
 },
 "nbformat": 4,
 "nbformat_minor": 2
}
